{
 "cells": [
  {
   "cell_type": "code",
   "execution_count": 14,
   "id": "c53772c6-eb7c-473f-9c76-8544a4b4e769",
   "metadata": {},
   "outputs": [],
   "source": [
    "Q1=\"Explain with an example each when to use a for loop and a while loop\""
   ]
  },
  {
   "cell_type": "code",
   "execution_count": null,
   "id": "70049e91-8673-4324-b8aa-33738988771b",
   "metadata": {},
   "outputs": [],
   "source": [
    "Ans = \" For loop generally used when the number of interation is known (the length of an array for example),and while loop are used when you don't known how long it will take and we want to repate many times a word\""
   ]
  },
  {
   "cell_type": "code",
   "execution_count": 18,
   "id": "112864a7-33ad-46e9-b527-d2c76657840f",
   "metadata": {},
   "outputs": [],
   "source": [
    "## Example of for loop\n",
    "l=[1,2,3,4,5,56,7]"
   ]
  },
  {
   "cell_type": "code",
   "execution_count": 23,
   "id": "88263f18-5d65-482d-8157-67f1b6390e07",
   "metadata": {},
   "outputs": [
    {
     "name": "stdout",
     "output_type": "stream",
     "text": [
      "1 <class 'int'>\n",
      "2 <class 'int'>\n",
      "3 <class 'int'>\n",
      "4 <class 'int'>\n",
      "5 <class 'int'>\n",
      "56 <class 'int'>\n",
      "7 <class 'int'>\n",
      "class is going on\n"
     ]
    }
   ],
   "source": [
    "for i in l:\n",
    "    print(i,type(i))\n",
    "else :\n",
    "    print(\"class is going on\")"
   ]
  },
  {
   "cell_type": "code",
   "execution_count": 1,
   "id": "2f378d6a-93b6-4947-86ee-d431fd659c1b",
   "metadata": {},
   "outputs": [
    {
     "name": "stdout",
     "output_type": "stream",
     "text": [
      "1\n",
      "2\n",
      "3\n",
      "4\n",
      "5\n",
      "6\n",
      "7\n",
      "8\n",
      "9\n",
      "10\n"
     ]
    }
   ],
   "source": [
    "## Example of while loop\n",
    "a= 1\n",
    "\n",
    "while a<=10:\n",
    "    print(a)\n",
    "    a =a+1\n"
   ]
  },
  {
   "cell_type": "code",
   "execution_count": 7,
   "id": "dfd7af07-5a82-4b3f-a103-0940171853a0",
   "metadata": {},
   "outputs": [],
   "source": [
    "Q2 =\"Write a python program to print the sum and product of the first 10 natural numbers using forand while loop\""
   ]
  },
  {
   "cell_type": "code",
   "execution_count": 8,
   "id": "00f2fa3c-ae6b-4189-9a03-cf4f1ec66313",
   "metadata": {},
   "outputs": [],
   "source": [
    "#Sum up the number till some point"
   ]
  },
  {
   "cell_type": "code",
   "execution_count": 12,
   "id": "67e602f5-ed6f-41a8-aab3-67df2979f335",
   "metadata": {},
   "outputs": [],
   "source": [
    "# For loop\n",
    "l =[1,2,3,4,5,6,7,8,9,10]"
   ]
  },
  {
   "cell_type": "code",
   "execution_count": 13,
   "id": "9c42ff6b-dd50-4eb5-8bca-17265c57d17c",
   "metadata": {},
   "outputs": [
    {
     "data": {
      "text/plain": [
       "55"
      ]
     },
     "execution_count": 13,
     "metadata": {},
     "output_type": "execute_result"
    }
   ],
   "source": [
    "result = 0\n",
    "for i in l:\n",
    "    result = result+i\n",
    "result"
   ]
  },
  {
   "cell_type": "code",
   "execution_count": 14,
   "id": "cc123531-d360-4991-be86-31fdb3e6b426",
   "metadata": {},
   "outputs": [
    {
     "name": "stdin",
     "output_type": "stream",
     "text": [
      "enter your limit 10\n"
     ]
    },
    {
     "data": {
      "text/plain": [
       "55"
      ]
     },
     "execution_count": 14,
     "metadata": {},
     "output_type": "execute_result"
    }
   ],
   "source": [
    "# While loop\n",
    "n =int(input(\"enter your limit\"))\n",
    "starting_point =0\n",
    "counter = 1\n",
    "\n",
    "while counter <= n:\n",
    "    starting_point  = starting_point +counter\n",
    "    counter = counter+1\n",
    "starting_point"
   ]
  },
  {
   "cell_type": "code",
   "execution_count": 15,
   "id": "b92323a9-d739-434a-b55c-c85ebfa7b588",
   "metadata": {},
   "outputs": [],
   "source": [
    "# Q3 answer"
   ]
  },
  {
   "cell_type": "code",
   "execution_count": 1,
   "id": "67344036-0cce-46a1-924f-3aae64e54f92",
   "metadata": {},
   "outputs": [
    {
     "name": "stdin",
     "output_type": "stream",
     "text": [
      "enter the unit value 310\n"
     ]
    },
    {
     "name": "stdout",
     "output_type": "stream",
     "text": [
      "2250.0\n"
     ]
    }
   ],
   "source": [
    "unit=int(input(\"enter the unit value\"))\n",
    "bill = 0.0\n",
    "if (unit <= 100) :\n",
    "    bill = unit*4.5\n",
    "elif (unit >100 and unit<=200):\n",
    "    bill = 100*4.5+(unit - 100)*6\n",
    "elif (unit > 200 and unit<=300):\n",
    "    bill = 100*4.5+100*6+(unit-200)*10\n",
    "else:\n",
    "    bill = 100*4.5+100*6+100*10+(unit-300)*20\n",
    "    print (bill)"
   ]
  },
  {
   "cell_type": "code",
   "execution_count": null,
   "id": "d5ef14b7-0547-445c-830e-96216b7656f6",
   "metadata": {},
   "outputs": [],
   "source": [
    "#Q4 answer"
   ]
  },
  {
   "cell_type": "code",
   "execution_count": 2,
   "id": "58652fd6-7981-4835-a648-a16be3dce610",
   "metadata": {},
   "outputs": [
    {
     "name": "stdout",
     "output_type": "stream",
     "text": [
      "[2, 4, 5, 6, 8, 10, 12, 14, 15, 16, 18, 20, 22, 24, 25, 26, 28, 30, 32, 34, 35, 36, 38, 40, 42, 44, 45, 46, 48, 50, 52, 54, 55, 56, 58, 60, 62, 64, 65, 66, 68, 70, 72, 74, 75, 76, 78, 80, 82, 84, 85, 86, 88, 90, 92, 94, 95, 96, 98]\n"
     ]
    }
   ],
   "source": [
    "result = []\n",
    "for i in range(1 , 100):\n",
    "    cube = i*i*i\n",
    "    if (cube%4==0 or cube%5==0):\n",
    "        result.append(i)\n",
    "print(result)"
   ]
  },
  {
   "cell_type": "code",
   "execution_count": 7,
   "id": "20803cef-1f52-4aaa-87ee-bcde3de9bfb2",
   "metadata": {},
   "outputs": [],
   "source": [
    "#Q5 answer"
   ]
  },
  {
   "cell_type": "code",
   "execution_count": 12,
   "id": "05e33770-4a3c-47ab-8d52-50881f118e3e",
   "metadata": {},
   "outputs": [
    {
     "name": "stdin",
     "output_type": "stream",
     "text": [
      "enter the string: \"I want to become a data scientist\"\n"
     ]
    },
    {
     "name": "stdout",
     "output_type": "stream",
     "text": [
      "cont of vowels in the given string: 12\n"
     ]
    }
   ],
   "source": [
    "k = input(\"enter the string:\")\n",
    "k_lower = k.lower()\n",
    "vowels = \"aeiou\"\n",
    "count = 0\n",
    "for i in k_lower:\n",
    "    if i in vowels:\n",
    "        count = count + 1\n",
    "print(\"cont of vowels in the given string:\", count)"
   ]
  },
  {
   "cell_type": "code",
   "execution_count": null,
   "id": "bce636d3-6072-420c-8f94-18e5c591567b",
   "metadata": {},
   "outputs": [],
   "source": []
  }
 ],
 "metadata": {
  "kernelspec": {
   "display_name": "Python 3 (ipykernel)",
   "language": "python",
   "name": "python3"
  },
  "language_info": {
   "codemirror_mode": {
    "name": "ipython",
    "version": 3
   },
   "file_extension": ".py",
   "mimetype": "text/x-python",
   "name": "python",
   "nbconvert_exporter": "python",
   "pygments_lexer": "ipython3",
   "version": "3.10.8"
  }
 },
 "nbformat": 4,
 "nbformat_minor": 5
}
